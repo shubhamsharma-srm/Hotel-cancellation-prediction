{
 "cells": [
  {
   "cell_type": "markdown",
   "metadata": {},
   "source": [
    "# Machine Learning"
   ]
  },
  {
   "cell_type": "code",
   "execution_count": 1,
   "metadata": {},
   "outputs": [
    {
     "name": "stdout",
     "output_type": "stream",
     "text": [
      "Collecting xgboost\n",
      "  Downloading xgboost-1.5.0-py3-none-win_amd64.whl (106.6 MB)\n",
      "Requirement already satisfied: numpy in c:\\users\\hp\\anaconda3\\lib\\site-packages (from xgboost) (1.19.2)\n",
      "Requirement already satisfied: scipy in c:\\users\\hp\\anaconda3\\lib\\site-packages (from xgboost) (1.5.2)\n",
      "Installing collected packages: xgboost\n",
      "Successfully installed xgboost-1.5.0\n"
     ]
    }
   ],
   "source": [
    "!pip install xgboost\n"
   ]
  },
  {
   "cell_type": "code",
   "execution_count": 2,
   "metadata": {},
   "outputs": [],
   "source": [
    "import pandas as pd\n",
    "import numpy as np\n",
    "import matplotlib.pyplot as plt\n",
    "import seaborn as sns\n",
    "from sklearn.metrics import f1_score, accuracy_score, recall_score, confusion_matrix,classification_report, precision_score, roc_auc_score\n",
    "from sklearn.model_selection import train_test_split, GridSearchCV, RandomizedSearchCV\n",
    "from sklearn.tree import DecisionTreeClassifier\n",
    "from xgboost import XGBClassifier\n",
    "from sklearn.ensemble import RandomForestClassifier\n",
    "from sklearn.pipeline import Pipeline\n",
    "from sklearn.preprocessing import OneHotEncoder, LabelEncoder, MinMaxScaler, StandardScaler, RobustScaler\n",
    "from sklearn.compose import ColumnTransformer\n",
    "from sklearn.linear_model import LogisticRegression\n",
    "from sklearn.neighbors import KNeighborsClassifier\n",
    "import joblib\n",
    "\n",
    "import warnings\n",
    "warnings.filterwarnings('ignore')\n",
    "\n",
    "pd.set_option('display.max_columns', None)"
   ]
  },
  {
   "cell_type": "markdown",
   "metadata": {},
   "source": [
    "### Double Checking The Data"
   ]
  },
  {
   "cell_type": "code",
   "execution_count": 3,
   "metadata": {},
   "outputs": [
    {
     "data": {
      "text/html": [
       "<div>\n",
       "<style scoped>\n",
       "    .dataframe tbody tr th:only-of-type {\n",
       "        vertical-align: middle;\n",
       "    }\n",
       "\n",
       "    .dataframe tbody tr th {\n",
       "        vertical-align: top;\n",
       "    }\n",
       "\n",
       "    .dataframe thead th {\n",
       "        text-align: right;\n",
       "    }\n",
       "</style>\n",
       "<table border=\"1\" class=\"dataframe\">\n",
       "  <thead>\n",
       "    <tr style=\"text-align: right;\">\n",
       "      <th></th>\n",
       "      <th>hotel</th>\n",
       "      <th>is_canceled</th>\n",
       "      <th>lead_time</th>\n",
       "      <th>arrival_date_year</th>\n",
       "      <th>arrival_date_month</th>\n",
       "      <th>arrival_date_week_number</th>\n",
       "      <th>arrival_date_day_of_month</th>\n",
       "      <th>adults</th>\n",
       "      <th>meal</th>\n",
       "      <th>country</th>\n",
       "      <th>market_segment</th>\n",
       "      <th>distribution_channel</th>\n",
       "      <th>is_repeated_guest</th>\n",
       "      <th>previous_cancellations</th>\n",
       "      <th>previous_bookings_not_canceled</th>\n",
       "      <th>reserved_room_type</th>\n",
       "      <th>assigned_room_type</th>\n",
       "      <th>booking_changes</th>\n",
       "      <th>deposit_type</th>\n",
       "      <th>days_in_waiting_list</th>\n",
       "      <th>customer_type</th>\n",
       "      <th>adr</th>\n",
       "      <th>required_car_parking_spaces</th>\n",
       "      <th>total_of_special_requests</th>\n",
       "      <th>reservation_status</th>\n",
       "      <th>reservation_status_date</th>\n",
       "      <th>arrival_date</th>\n",
       "      <th>arrival_month</th>\n",
       "      <th>arrival_day</th>\n",
       "      <th>month_year</th>\n",
       "      <th>total_stays</th>\n",
       "      <th>guests</th>\n",
       "      <th>kids</th>\n",
       "      <th>lead_time_month</th>\n",
       "      <th>booking_location</th>\n",
       "      <th>is_previously_cancelled</th>\n",
       "      <th>is_booking_changes</th>\n",
       "      <th>parking_space</th>\n",
       "    </tr>\n",
       "  </thead>\n",
       "  <tbody>\n",
       "    <tr>\n",
       "      <th>0</th>\n",
       "      <td>Resort Hotel</td>\n",
       "      <td>0</td>\n",
       "      <td>342</td>\n",
       "      <td>2015</td>\n",
       "      <td>July</td>\n",
       "      <td>27</td>\n",
       "      <td>1</td>\n",
       "      <td>2</td>\n",
       "      <td>BB</td>\n",
       "      <td>PRT</td>\n",
       "      <td>Direct</td>\n",
       "      <td>Direct</td>\n",
       "      <td>0</td>\n",
       "      <td>0</td>\n",
       "      <td>0</td>\n",
       "      <td>C</td>\n",
       "      <td>C</td>\n",
       "      <td>3</td>\n",
       "      <td>No Deposit</td>\n",
       "      <td>0</td>\n",
       "      <td>Transient</td>\n",
       "      <td>0.0</td>\n",
       "      <td>0</td>\n",
       "      <td>0</td>\n",
       "      <td>Check-Out</td>\n",
       "      <td>2015-07-01</td>\n",
       "      <td>2015-07-01</td>\n",
       "      <td>7</td>\n",
       "      <td>Wednesday</td>\n",
       "      <td>2015-07</td>\n",
       "      <td>0</td>\n",
       "      <td>2.0</td>\n",
       "      <td>0.0</td>\n",
       "      <td>11</td>\n",
       "      <td>Local</td>\n",
       "      <td>0</td>\n",
       "      <td>1</td>\n",
       "      <td>0</td>\n",
       "    </tr>\n",
       "    <tr>\n",
       "      <th>1</th>\n",
       "      <td>Resort Hotel</td>\n",
       "      <td>0</td>\n",
       "      <td>737</td>\n",
       "      <td>2015</td>\n",
       "      <td>July</td>\n",
       "      <td>27</td>\n",
       "      <td>1</td>\n",
       "      <td>2</td>\n",
       "      <td>BB</td>\n",
       "      <td>PRT</td>\n",
       "      <td>Direct</td>\n",
       "      <td>Direct</td>\n",
       "      <td>0</td>\n",
       "      <td>0</td>\n",
       "      <td>0</td>\n",
       "      <td>C</td>\n",
       "      <td>C</td>\n",
       "      <td>4</td>\n",
       "      <td>No Deposit</td>\n",
       "      <td>0</td>\n",
       "      <td>Transient</td>\n",
       "      <td>0.0</td>\n",
       "      <td>0</td>\n",
       "      <td>0</td>\n",
       "      <td>Check-Out</td>\n",
       "      <td>2015-07-01</td>\n",
       "      <td>2015-07-01</td>\n",
       "      <td>7</td>\n",
       "      <td>Wednesday</td>\n",
       "      <td>2015-07</td>\n",
       "      <td>0</td>\n",
       "      <td>2.0</td>\n",
       "      <td>0.0</td>\n",
       "      <td>24</td>\n",
       "      <td>Local</td>\n",
       "      <td>0</td>\n",
       "      <td>1</td>\n",
       "      <td>0</td>\n",
       "    </tr>\n",
       "    <tr>\n",
       "      <th>2</th>\n",
       "      <td>Resort Hotel</td>\n",
       "      <td>0</td>\n",
       "      <td>7</td>\n",
       "      <td>2015</td>\n",
       "      <td>July</td>\n",
       "      <td>27</td>\n",
       "      <td>1</td>\n",
       "      <td>1</td>\n",
       "      <td>BB</td>\n",
       "      <td>GBR</td>\n",
       "      <td>Direct</td>\n",
       "      <td>Direct</td>\n",
       "      <td>0</td>\n",
       "      <td>0</td>\n",
       "      <td>0</td>\n",
       "      <td>A</td>\n",
       "      <td>C</td>\n",
       "      <td>0</td>\n",
       "      <td>No Deposit</td>\n",
       "      <td>0</td>\n",
       "      <td>Transient</td>\n",
       "      <td>75.0</td>\n",
       "      <td>0</td>\n",
       "      <td>0</td>\n",
       "      <td>Check-Out</td>\n",
       "      <td>2015-07-02</td>\n",
       "      <td>2015-07-01</td>\n",
       "      <td>7</td>\n",
       "      <td>Wednesday</td>\n",
       "      <td>2015-07</td>\n",
       "      <td>1</td>\n",
       "      <td>1.0</td>\n",
       "      <td>0.0</td>\n",
       "      <td>0</td>\n",
       "      <td>International</td>\n",
       "      <td>0</td>\n",
       "      <td>0</td>\n",
       "      <td>0</td>\n",
       "    </tr>\n",
       "    <tr>\n",
       "      <th>3</th>\n",
       "      <td>Resort Hotel</td>\n",
       "      <td>0</td>\n",
       "      <td>13</td>\n",
       "      <td>2015</td>\n",
       "      <td>July</td>\n",
       "      <td>27</td>\n",
       "      <td>1</td>\n",
       "      <td>1</td>\n",
       "      <td>BB</td>\n",
       "      <td>GBR</td>\n",
       "      <td>Corporate</td>\n",
       "      <td>Corporate</td>\n",
       "      <td>0</td>\n",
       "      <td>0</td>\n",
       "      <td>0</td>\n",
       "      <td>A</td>\n",
       "      <td>A</td>\n",
       "      <td>0</td>\n",
       "      <td>No Deposit</td>\n",
       "      <td>0</td>\n",
       "      <td>Transient</td>\n",
       "      <td>75.0</td>\n",
       "      <td>0</td>\n",
       "      <td>0</td>\n",
       "      <td>Check-Out</td>\n",
       "      <td>2015-07-02</td>\n",
       "      <td>2015-07-01</td>\n",
       "      <td>7</td>\n",
       "      <td>Wednesday</td>\n",
       "      <td>2015-07</td>\n",
       "      <td>1</td>\n",
       "      <td>1.0</td>\n",
       "      <td>0.0</td>\n",
       "      <td>0</td>\n",
       "      <td>International</td>\n",
       "      <td>0</td>\n",
       "      <td>0</td>\n",
       "      <td>0</td>\n",
       "    </tr>\n",
       "    <tr>\n",
       "      <th>4</th>\n",
       "      <td>Resort Hotel</td>\n",
       "      <td>0</td>\n",
       "      <td>14</td>\n",
       "      <td>2015</td>\n",
       "      <td>July</td>\n",
       "      <td>27</td>\n",
       "      <td>1</td>\n",
       "      <td>2</td>\n",
       "      <td>BB</td>\n",
       "      <td>GBR</td>\n",
       "      <td>Online TA</td>\n",
       "      <td>TA/TO</td>\n",
       "      <td>0</td>\n",
       "      <td>0</td>\n",
       "      <td>0</td>\n",
       "      <td>A</td>\n",
       "      <td>A</td>\n",
       "      <td>0</td>\n",
       "      <td>No Deposit</td>\n",
       "      <td>0</td>\n",
       "      <td>Transient</td>\n",
       "      <td>98.0</td>\n",
       "      <td>0</td>\n",
       "      <td>1</td>\n",
       "      <td>Check-Out</td>\n",
       "      <td>2015-07-03</td>\n",
       "      <td>2015-07-01</td>\n",
       "      <td>7</td>\n",
       "      <td>Wednesday</td>\n",
       "      <td>2015-07</td>\n",
       "      <td>2</td>\n",
       "      <td>2.0</td>\n",
       "      <td>0.0</td>\n",
       "      <td>0</td>\n",
       "      <td>International</td>\n",
       "      <td>0</td>\n",
       "      <td>0</td>\n",
       "      <td>0</td>\n",
       "    </tr>\n",
       "  </tbody>\n",
       "</table>\n",
       "</div>"
      ],
      "text/plain": [
       "          hotel  is_canceled  lead_time  arrival_date_year arrival_date_month  \\\n",
       "0  Resort Hotel            0        342               2015               July   \n",
       "1  Resort Hotel            0        737               2015               July   \n",
       "2  Resort Hotel            0          7               2015               July   \n",
       "3  Resort Hotel            0         13               2015               July   \n",
       "4  Resort Hotel            0         14               2015               July   \n",
       "\n",
       "   arrival_date_week_number  arrival_date_day_of_month  adults meal country  \\\n",
       "0                        27                          1       2   BB     PRT   \n",
       "1                        27                          1       2   BB     PRT   \n",
       "2                        27                          1       1   BB     GBR   \n",
       "3                        27                          1       1   BB     GBR   \n",
       "4                        27                          1       2   BB     GBR   \n",
       "\n",
       "  market_segment distribution_channel  is_repeated_guest  \\\n",
       "0         Direct               Direct                  0   \n",
       "1         Direct               Direct                  0   \n",
       "2         Direct               Direct                  0   \n",
       "3      Corporate            Corporate                  0   \n",
       "4      Online TA                TA/TO                  0   \n",
       "\n",
       "   previous_cancellations  previous_bookings_not_canceled reserved_room_type  \\\n",
       "0                       0                               0                  C   \n",
       "1                       0                               0                  C   \n",
       "2                       0                               0                  A   \n",
       "3                       0                               0                  A   \n",
       "4                       0                               0                  A   \n",
       "\n",
       "  assigned_room_type  booking_changes deposit_type  days_in_waiting_list  \\\n",
       "0                  C                3   No Deposit                     0   \n",
       "1                  C                4   No Deposit                     0   \n",
       "2                  C                0   No Deposit                     0   \n",
       "3                  A                0   No Deposit                     0   \n",
       "4                  A                0   No Deposit                     0   \n",
       "\n",
       "  customer_type   adr  required_car_parking_spaces  total_of_special_requests  \\\n",
       "0     Transient   0.0                            0                          0   \n",
       "1     Transient   0.0                            0                          0   \n",
       "2     Transient  75.0                            0                          0   \n",
       "3     Transient  75.0                            0                          0   \n",
       "4     Transient  98.0                            0                          1   \n",
       "\n",
       "  reservation_status reservation_status_date arrival_date  arrival_month  \\\n",
       "0          Check-Out              2015-07-01   2015-07-01              7   \n",
       "1          Check-Out              2015-07-01   2015-07-01              7   \n",
       "2          Check-Out              2015-07-02   2015-07-01              7   \n",
       "3          Check-Out              2015-07-02   2015-07-01              7   \n",
       "4          Check-Out              2015-07-03   2015-07-01              7   \n",
       "\n",
       "  arrival_day month_year  total_stays  guests  kids  lead_time_month  \\\n",
       "0   Wednesday    2015-07            0     2.0   0.0               11   \n",
       "1   Wednesday    2015-07            0     2.0   0.0               24   \n",
       "2   Wednesday    2015-07            1     1.0   0.0                0   \n",
       "3   Wednesday    2015-07            1     1.0   0.0                0   \n",
       "4   Wednesday    2015-07            2     2.0   0.0                0   \n",
       "\n",
       "  booking_location  is_previously_cancelled  is_booking_changes  parking_space  \n",
       "0            Local                        0                   1              0  \n",
       "1            Local                        0                   1              0  \n",
       "2    International                        0                   0              0  \n",
       "3    International                        0                   0              0  \n",
       "4    International                        0                   0              0  "
      ]
     },
     "execution_count": 3,
     "metadata": {},
     "output_type": "execute_result"
    }
   ],
   "source": [
    "df = pd.read_csv('hotel_final.csv')\n",
    "df.head()"
   ]
  },
  {
   "cell_type": "code",
   "execution_count": 4,
   "metadata": {},
   "outputs": [
    {
     "data": {
      "text/plain": [
       "hotel                             0\n",
       "is_canceled                       0\n",
       "lead_time                         0\n",
       "arrival_date_year                 0\n",
       "arrival_date_month                0\n",
       "arrival_date_week_number          0\n",
       "arrival_date_day_of_month         0\n",
       "adults                            0\n",
       "meal                              0\n",
       "country                           0\n",
       "market_segment                    0\n",
       "distribution_channel              0\n",
       "is_repeated_guest                 0\n",
       "previous_cancellations            0\n",
       "previous_bookings_not_canceled    0\n",
       "reserved_room_type                0\n",
       "assigned_room_type                0\n",
       "booking_changes                   0\n",
       "deposit_type                      0\n",
       "days_in_waiting_list              0\n",
       "customer_type                     0\n",
       "adr                               0\n",
       "required_car_parking_spaces       0\n",
       "total_of_special_requests         0\n",
       "reservation_status                0\n",
       "reservation_status_date           0\n",
       "arrival_date                      0\n",
       "arrival_month                     0\n",
       "arrival_day                       0\n",
       "month_year                        0\n",
       "total_stays                       0\n",
       "guests                            0\n",
       "kids                              0\n",
       "lead_time_month                   0\n",
       "booking_location                  0\n",
       "is_previously_cancelled           0\n",
       "is_booking_changes                0\n",
       "parking_space                     0\n",
       "dtype: int64"
      ]
     },
     "execution_count": 4,
     "metadata": {},
     "output_type": "execute_result"
    }
   ],
   "source": [
    "df.isna().sum()"
   ]
  },
  {
   "cell_type": "code",
   "execution_count": 5,
   "metadata": {},
   "outputs": [],
   "source": [
    "df['booking_location_encoded'] =df['booking_location'].map({'International':1, 'Local':0})\n",
    "df['hotel_encoded'] = df['hotel'].map({'City Hotel': 1, 'Resort Hotel':0})\n",
    "\n",
    "# preprocessing label using .map because there are only 2 unique values"
   ]
  },
  {
   "cell_type": "code",
   "execution_count": 6,
   "metadata": {},
   "outputs": [
    {
     "data": {
      "text/html": [
       "<div>\n",
       "<style scoped>\n",
       "    .dataframe tbody tr th:only-of-type {\n",
       "        vertical-align: middle;\n",
       "    }\n",
       "\n",
       "    .dataframe tbody tr th {\n",
       "        vertical-align: top;\n",
       "    }\n",
       "\n",
       "    .dataframe thead th {\n",
       "        text-align: right;\n",
       "    }\n",
       "</style>\n",
       "<table border=\"1\" class=\"dataframe\">\n",
       "  <thead>\n",
       "    <tr style=\"text-align: right;\">\n",
       "      <th></th>\n",
       "      <th>hotel</th>\n",
       "      <th>is_canceled</th>\n",
       "      <th>lead_time</th>\n",
       "      <th>arrival_date_year</th>\n",
       "      <th>arrival_date_month</th>\n",
       "      <th>arrival_date_week_number</th>\n",
       "      <th>arrival_date_day_of_month</th>\n",
       "      <th>adults</th>\n",
       "      <th>meal</th>\n",
       "      <th>country</th>\n",
       "      <th>market_segment</th>\n",
       "      <th>distribution_channel</th>\n",
       "      <th>is_repeated_guest</th>\n",
       "      <th>previous_cancellations</th>\n",
       "      <th>previous_bookings_not_canceled</th>\n",
       "      <th>reserved_room_type</th>\n",
       "      <th>assigned_room_type</th>\n",
       "      <th>booking_changes</th>\n",
       "      <th>deposit_type</th>\n",
       "      <th>days_in_waiting_list</th>\n",
       "      <th>customer_type</th>\n",
       "      <th>adr</th>\n",
       "      <th>required_car_parking_spaces</th>\n",
       "      <th>total_of_special_requests</th>\n",
       "      <th>reservation_status</th>\n",
       "      <th>reservation_status_date</th>\n",
       "      <th>arrival_date</th>\n",
       "      <th>arrival_month</th>\n",
       "      <th>arrival_day</th>\n",
       "      <th>month_year</th>\n",
       "      <th>total_stays</th>\n",
       "      <th>guests</th>\n",
       "      <th>kids</th>\n",
       "      <th>lead_time_month</th>\n",
       "      <th>booking_location</th>\n",
       "      <th>is_previously_cancelled</th>\n",
       "      <th>is_booking_changes</th>\n",
       "      <th>parking_space</th>\n",
       "      <th>booking_location_encoded</th>\n",
       "      <th>hotel_encoded</th>\n",
       "    </tr>\n",
       "  </thead>\n",
       "  <tbody>\n",
       "    <tr>\n",
       "      <th>0</th>\n",
       "      <td>Resort Hotel</td>\n",
       "      <td>0</td>\n",
       "      <td>342</td>\n",
       "      <td>2015</td>\n",
       "      <td>July</td>\n",
       "      <td>27</td>\n",
       "      <td>1</td>\n",
       "      <td>2</td>\n",
       "      <td>BB</td>\n",
       "      <td>PRT</td>\n",
       "      <td>Direct</td>\n",
       "      <td>Direct</td>\n",
       "      <td>0</td>\n",
       "      <td>0</td>\n",
       "      <td>0</td>\n",
       "      <td>C</td>\n",
       "      <td>C</td>\n",
       "      <td>3</td>\n",
       "      <td>No Deposit</td>\n",
       "      <td>0</td>\n",
       "      <td>Transient</td>\n",
       "      <td>0.0</td>\n",
       "      <td>0</td>\n",
       "      <td>0</td>\n",
       "      <td>Check-Out</td>\n",
       "      <td>2015-07-01</td>\n",
       "      <td>2015-07-01</td>\n",
       "      <td>7</td>\n",
       "      <td>Wednesday</td>\n",
       "      <td>2015-07</td>\n",
       "      <td>0</td>\n",
       "      <td>2.0</td>\n",
       "      <td>0.0</td>\n",
       "      <td>11</td>\n",
       "      <td>Local</td>\n",
       "      <td>0</td>\n",
       "      <td>1</td>\n",
       "      <td>0</td>\n",
       "      <td>0</td>\n",
       "      <td>0</td>\n",
       "    </tr>\n",
       "    <tr>\n",
       "      <th>1</th>\n",
       "      <td>Resort Hotel</td>\n",
       "      <td>0</td>\n",
       "      <td>737</td>\n",
       "      <td>2015</td>\n",
       "      <td>July</td>\n",
       "      <td>27</td>\n",
       "      <td>1</td>\n",
       "      <td>2</td>\n",
       "      <td>BB</td>\n",
       "      <td>PRT</td>\n",
       "      <td>Direct</td>\n",
       "      <td>Direct</td>\n",
       "      <td>0</td>\n",
       "      <td>0</td>\n",
       "      <td>0</td>\n",
       "      <td>C</td>\n",
       "      <td>C</td>\n",
       "      <td>4</td>\n",
       "      <td>No Deposit</td>\n",
       "      <td>0</td>\n",
       "      <td>Transient</td>\n",
       "      <td>0.0</td>\n",
       "      <td>0</td>\n",
       "      <td>0</td>\n",
       "      <td>Check-Out</td>\n",
       "      <td>2015-07-01</td>\n",
       "      <td>2015-07-01</td>\n",
       "      <td>7</td>\n",
       "      <td>Wednesday</td>\n",
       "      <td>2015-07</td>\n",
       "      <td>0</td>\n",
       "      <td>2.0</td>\n",
       "      <td>0.0</td>\n",
       "      <td>24</td>\n",
       "      <td>Local</td>\n",
       "      <td>0</td>\n",
       "      <td>1</td>\n",
       "      <td>0</td>\n",
       "      <td>0</td>\n",
       "      <td>0</td>\n",
       "    </tr>\n",
       "    <tr>\n",
       "      <th>2</th>\n",
       "      <td>Resort Hotel</td>\n",
       "      <td>0</td>\n",
       "      <td>7</td>\n",
       "      <td>2015</td>\n",
       "      <td>July</td>\n",
       "      <td>27</td>\n",
       "      <td>1</td>\n",
       "      <td>1</td>\n",
       "      <td>BB</td>\n",
       "      <td>GBR</td>\n",
       "      <td>Direct</td>\n",
       "      <td>Direct</td>\n",
       "      <td>0</td>\n",
       "      <td>0</td>\n",
       "      <td>0</td>\n",
       "      <td>A</td>\n",
       "      <td>C</td>\n",
       "      <td>0</td>\n",
       "      <td>No Deposit</td>\n",
       "      <td>0</td>\n",
       "      <td>Transient</td>\n",
       "      <td>75.0</td>\n",
       "      <td>0</td>\n",
       "      <td>0</td>\n",
       "      <td>Check-Out</td>\n",
       "      <td>2015-07-02</td>\n",
       "      <td>2015-07-01</td>\n",
       "      <td>7</td>\n",
       "      <td>Wednesday</td>\n",
       "      <td>2015-07</td>\n",
       "      <td>1</td>\n",
       "      <td>1.0</td>\n",
       "      <td>0.0</td>\n",
       "      <td>0</td>\n",
       "      <td>International</td>\n",
       "      <td>0</td>\n",
       "      <td>0</td>\n",
       "      <td>0</td>\n",
       "      <td>1</td>\n",
       "      <td>0</td>\n",
       "    </tr>\n",
       "    <tr>\n",
       "      <th>3</th>\n",
       "      <td>Resort Hotel</td>\n",
       "      <td>0</td>\n",
       "      <td>13</td>\n",
       "      <td>2015</td>\n",
       "      <td>July</td>\n",
       "      <td>27</td>\n",
       "      <td>1</td>\n",
       "      <td>1</td>\n",
       "      <td>BB</td>\n",
       "      <td>GBR</td>\n",
       "      <td>Corporate</td>\n",
       "      <td>Corporate</td>\n",
       "      <td>0</td>\n",
       "      <td>0</td>\n",
       "      <td>0</td>\n",
       "      <td>A</td>\n",
       "      <td>A</td>\n",
       "      <td>0</td>\n",
       "      <td>No Deposit</td>\n",
       "      <td>0</td>\n",
       "      <td>Transient</td>\n",
       "      <td>75.0</td>\n",
       "      <td>0</td>\n",
       "      <td>0</td>\n",
       "      <td>Check-Out</td>\n",
       "      <td>2015-07-02</td>\n",
       "      <td>2015-07-01</td>\n",
       "      <td>7</td>\n",
       "      <td>Wednesday</td>\n",
       "      <td>2015-07</td>\n",
       "      <td>1</td>\n",
       "      <td>1.0</td>\n",
       "      <td>0.0</td>\n",
       "      <td>0</td>\n",
       "      <td>International</td>\n",
       "      <td>0</td>\n",
       "      <td>0</td>\n",
       "      <td>0</td>\n",
       "      <td>1</td>\n",
       "      <td>0</td>\n",
       "    </tr>\n",
       "    <tr>\n",
       "      <th>4</th>\n",
       "      <td>Resort Hotel</td>\n",
       "      <td>0</td>\n",
       "      <td>14</td>\n",
       "      <td>2015</td>\n",
       "      <td>July</td>\n",
       "      <td>27</td>\n",
       "      <td>1</td>\n",
       "      <td>2</td>\n",
       "      <td>BB</td>\n",
       "      <td>GBR</td>\n",
       "      <td>Online TA</td>\n",
       "      <td>TA/TO</td>\n",
       "      <td>0</td>\n",
       "      <td>0</td>\n",
       "      <td>0</td>\n",
       "      <td>A</td>\n",
       "      <td>A</td>\n",
       "      <td>0</td>\n",
       "      <td>No Deposit</td>\n",
       "      <td>0</td>\n",
       "      <td>Transient</td>\n",
       "      <td>98.0</td>\n",
       "      <td>0</td>\n",
       "      <td>1</td>\n",
       "      <td>Check-Out</td>\n",
       "      <td>2015-07-03</td>\n",
       "      <td>2015-07-01</td>\n",
       "      <td>7</td>\n",
       "      <td>Wednesday</td>\n",
       "      <td>2015-07</td>\n",
       "      <td>2</td>\n",
       "      <td>2.0</td>\n",
       "      <td>0.0</td>\n",
       "      <td>0</td>\n",
       "      <td>International</td>\n",
       "      <td>0</td>\n",
       "      <td>0</td>\n",
       "      <td>0</td>\n",
       "      <td>1</td>\n",
       "      <td>0</td>\n",
       "    </tr>\n",
       "  </tbody>\n",
       "</table>\n",
       "</div>"
      ],
      "text/plain": [
       "          hotel  is_canceled  lead_time  arrival_date_year arrival_date_month  \\\n",
       "0  Resort Hotel            0        342               2015               July   \n",
       "1  Resort Hotel            0        737               2015               July   \n",
       "2  Resort Hotel            0          7               2015               July   \n",
       "3  Resort Hotel            0         13               2015               July   \n",
       "4  Resort Hotel            0         14               2015               July   \n",
       "\n",
       "   arrival_date_week_number  arrival_date_day_of_month  adults meal country  \\\n",
       "0                        27                          1       2   BB     PRT   \n",
       "1                        27                          1       2   BB     PRT   \n",
       "2                        27                          1       1   BB     GBR   \n",
       "3                        27                          1       1   BB     GBR   \n",
       "4                        27                          1       2   BB     GBR   \n",
       "\n",
       "  market_segment distribution_channel  is_repeated_guest  \\\n",
       "0         Direct               Direct                  0   \n",
       "1         Direct               Direct                  0   \n",
       "2         Direct               Direct                  0   \n",
       "3      Corporate            Corporate                  0   \n",
       "4      Online TA                TA/TO                  0   \n",
       "\n",
       "   previous_cancellations  previous_bookings_not_canceled reserved_room_type  \\\n",
       "0                       0                               0                  C   \n",
       "1                       0                               0                  C   \n",
       "2                       0                               0                  A   \n",
       "3                       0                               0                  A   \n",
       "4                       0                               0                  A   \n",
       "\n",
       "  assigned_room_type  booking_changes deposit_type  days_in_waiting_list  \\\n",
       "0                  C                3   No Deposit                     0   \n",
       "1                  C                4   No Deposit                     0   \n",
       "2                  C                0   No Deposit                     0   \n",
       "3                  A                0   No Deposit                     0   \n",
       "4                  A                0   No Deposit                     0   \n",
       "\n",
       "  customer_type   adr  required_car_parking_spaces  total_of_special_requests  \\\n",
       "0     Transient   0.0                            0                          0   \n",
       "1     Transient   0.0                            0                          0   \n",
       "2     Transient  75.0                            0                          0   \n",
       "3     Transient  75.0                            0                          0   \n",
       "4     Transient  98.0                            0                          1   \n",
       "\n",
       "  reservation_status reservation_status_date arrival_date  arrival_month  \\\n",
       "0          Check-Out              2015-07-01   2015-07-01              7   \n",
       "1          Check-Out              2015-07-01   2015-07-01              7   \n",
       "2          Check-Out              2015-07-02   2015-07-01              7   \n",
       "3          Check-Out              2015-07-02   2015-07-01              7   \n",
       "4          Check-Out              2015-07-03   2015-07-01              7   \n",
       "\n",
       "  arrival_day month_year  total_stays  guests  kids  lead_time_month  \\\n",
       "0   Wednesday    2015-07            0     2.0   0.0               11   \n",
       "1   Wednesday    2015-07            0     2.0   0.0               24   \n",
       "2   Wednesday    2015-07            1     1.0   0.0                0   \n",
       "3   Wednesday    2015-07            1     1.0   0.0                0   \n",
       "4   Wednesday    2015-07            2     2.0   0.0                0   \n",
       "\n",
       "  booking_location  is_previously_cancelled  is_booking_changes  \\\n",
       "0            Local                        0                   1   \n",
       "1            Local                        0                   1   \n",
       "2    International                        0                   0   \n",
       "3    International                        0                   0   \n",
       "4    International                        0                   0   \n",
       "\n",
       "   parking_space  booking_location_encoded  hotel_encoded  \n",
       "0              0                         0              0  \n",
       "1              0                         0              0  \n",
       "2              0                         1              0  \n",
       "3              0                         1              0  \n",
       "4              0                         1              0  "
      ]
     },
     "execution_count": 6,
     "metadata": {},
     "output_type": "execute_result"
    }
   ],
   "source": [
    "df.head()"
   ]
  },
  {
   "cell_type": "code",
   "execution_count": 7,
   "metadata": {},
   "outputs": [
    {
     "ename": "ModuleNotFoundError",
     "evalue": "No module named 'dython'",
     "output_type": "error",
     "traceback": [
      "\u001b[1;31m---------------------------------------------------------------------------\u001b[0m",
      "\u001b[1;31mModuleNotFoundError\u001b[0m                       Traceback (most recent call last)",
      "\u001b[1;32m<ipython-input-7-d11089602dd9>\u001b[0m in \u001b[0;36m<module>\u001b[1;34m\u001b[0m\n\u001b[1;32m----> 1\u001b[1;33m \u001b[1;32mimport\u001b[0m \u001b[0mdython\u001b[0m\u001b[1;33m\u001b[0m\u001b[1;33m\u001b[0m\u001b[0m\n\u001b[0m\u001b[0;32m      2\u001b[0m \u001b[1;32mfrom\u001b[0m \u001b[0mdython\u001b[0m\u001b[1;33m.\u001b[0m\u001b[0mnominal\u001b[0m \u001b[1;32mimport\u001b[0m \u001b[0massociations\u001b[0m\u001b[1;33m\u001b[0m\u001b[1;33m\u001b[0m\u001b[0m\n\u001b[0;32m      3\u001b[0m \u001b[1;33m\u001b[0m\u001b[0m\n",
      "\u001b[1;31mModuleNotFoundError\u001b[0m: No module named 'dython'"
     ]
    }
   ],
   "source": [
    "import dython\n",
    "from dython.nominal import associations\n",
    "\n"
   ]
  },
  {
   "cell_type": "code",
   "execution_count": null,
   "metadata": {},
   "outputs": [],
   "source": [
    "associations(df, figsize = (40, 20))\n",
    "plt.show()\n",
    "\n",
    "# we se that iscanceled have 1.00 cancellation have 1.00 correlation with reservationn status so will not use reservation status\n",
    "# as reservation status tell you is the booking already canceled or check out or no show \n",
    "# and reservation status date will be dropped as well as our goals is to predict"
   ]
  },
  {
   "cell_type": "code",
   "execution_count": null,
   "metadata": {},
   "outputs": [],
   "source": [
    "df.head()"
   ]
  },
  {
   "cell_type": "markdown",
   "metadata": {},
   "source": [
    "- lead time = 0.29\n",
    "    - numerical\n",
    "    \n",
    "    \n",
    "- booking location = 0.33\n",
    "    - label categorical (binary)\n",
    "   \n",
    "\n",
    "\n",
    "- country = 0.36\n",
    "    - categorical one hot encoding\n",
    "    \n",
    "    \n",
    "- market segment = 0.27\n",
    "    - categorical one hot encoding\n",
    "\n",
    "\n",
    "- deposit type = 0.48\n",
    "    - categorical one hot encoding\n",
    "\n",
    "\n",
    "- parking_space = -0.2\n",
    "    - numerical encoding\n",
    "    \n",
    "    \n",
    "\n",
    "- total_special_request = -0.24\n",
    "    - numerical\n",
    "\n",
    "- is previously cancelled = 0.27\n",
    "    - numerical"
   ]
  },
  {
   "cell_type": "code",
   "execution_count": null,
   "metadata": {},
   "outputs": [],
   "source": [
    "df.head()"
   ]
  },
  {
   "cell_type": "markdown",
   "metadata": {},
   "source": [
    "## Model Building"
   ]
  },
  {
   "cell_type": "code",
   "execution_count": null,
   "metadata": {},
   "outputs": [],
   "source": [
    "X = df[['hotel_encoded','booking_location_encoded','lead_time', 'market_segment', 'deposit_type', 'parking_space', 'total_of_special_requests', 'is_previously_cancelled', 'is_repeated_guest', 'is_booking_changes', 'customer_type', 'total_stays', 'guests']]\n",
    "y = df['is_canceled']\n",
    "\n",
    "X_train, X_test, y_train, y_test = train_test_split(X, y, stratify = y, test_size = 0.2, random_state = 42)"
   ]
  },
  {
   "cell_type": "code",
   "execution_count": null,
   "metadata": {},
   "outputs": [],
   "source": [
    "X_train.head()"
   ]
  },
  {
   "cell_type": "code",
   "execution_count": null,
   "metadata": {},
   "outputs": [],
   "source": [
    "cat_columns = ['market_segment','deposit_type','customer_type']\n",
    "num_columns = ['hotel_encoded','booking_location_encoded','lead_time', 'parking_space', 'total_of_special_requests', 'is_previously_cancelled', 'is_repeated_guest', 'is_booking_changes', 'total_stays', 'guests']"
   ]
  },
  {
   "cell_type": "code",
   "execution_count": null,
   "metadata": {},
   "outputs": [],
   "source": [
    "categorical_pipeline = Pipeline([\n",
    "    ('encoder', OneHotEncoder())\n",
    "])\n",
    "\n",
    "numerical_pipeline = Pipeline([\n",
    "    ('scaler', RobustScaler())\n",
    "])\n",
    "\n",
    "prepocessor = ColumnTransformer([\n",
    "    ('categorical',categorical_pipeline,cat_columns),\n",
    "    ('numerical', numerical_pipeline,num_columns)\n",
    "])\n",
    "\n",
    "pipe_logreg = Pipeline([\n",
    "    (\"prep\", prepocessor),\n",
    "    (\"algo\", LogisticRegression())\n",
    "])\n",
    "\n",
    "pipe_KNN = Pipeline([\n",
    "    ('prep', prepocessor),\n",
    "    ('algo', KNeighborsClassifier())\n",
    "])\n",
    "\n",
    "\n",
    "pipe_RF = Pipeline([\n",
    "    (\"prep\", prepocessor),\n",
    "    (\"algo\", RandomForestClassifier())\n",
    "])\n",
    "\n",
    "pipe_DT = Pipeline([\n",
    "    (\"prep\", prepocessor),\n",
    "    (\"algo\", DecisionTreeClassifier())\n",
    "])\n",
    "\n",
    "pipe_XGB = Pipeline([\n",
    "    (\"prep\", prepocessor),\n",
    "    (\"algo\", XGBClassifier())\n",
    "])\n",
    "\n",
    "# this is preparring all the the pipeline model to predict all using few algorithm and we will hypertune it using\n",
    "# the algorithm that we set up as well"
   ]
  },
  {
   "cell_type": "markdown",
   "metadata": {},
   "source": [
    "### Logistic Regression"
   ]
  },
  {
   "cell_type": "code",
   "execution_count": null,
   "metadata": {},
   "outputs": [],
   "source": [
    "pipe_logreg.fit(X_train, y_train)\n",
    "y_pred_logreg_base =  pipe_logreg.predict(X_test)\n",
    "y_pred_logreg_base_train = pipe_logreg.predict(X_train)"
   ]
  },
  {
   "cell_type": "code",
   "execution_count": null,
   "metadata": {},
   "outputs": [],
   "source": [
    "recall_logreg_base = recall_score(y_test, y_pred_logreg_base)\n",
    "acc_logreg_base = accuracy_score(y_test, y_pred_logreg_base)\n",
    "precision_logreg_base = precision_score(y_test, y_pred_logreg_base)\n",
    "f1_logreg_base = f1_score(y_test, y_pred_logreg_base)\n",
    "acc_logreg_base_train = accuracy_score(y_train, y_pred_logreg_base_train)\n",
    "\n",
    "print(f\"Training Accuracy : {acc_logreg_base_train}\")\n",
    "print(f\"Testing Accuracy : {acc_logreg_base}\")\n",
    "\n",
    "# we see here that the model is not over fit or underfitting using logistic regression model"
   ]
  },
  {
   "cell_type": "code",
   "execution_count": null,
   "metadata": {},
   "outputs": [],
   "source": [
    "print(classification_report(y_test, y_pred_logreg_base))"
   ]
  },
  {
   "cell_type": "code",
   "execution_count": null,
   "metadata": {},
   "outputs": [],
   "source": [
    "cm_logreg_base = confusion_matrix(y_test, y_pred_logreg_base, labels = [1,0])\n",
    "df_logreg_base = pd.DataFrame(data = cm_logreg_base, index = ['aktual 1', 'aktual 0'], columns = ['Prediksi 1', 'Prediksi 0'])\n",
    "df_logreg_base"
   ]
  },
  {
   "cell_type": "code",
   "execution_count": null,
   "metadata": {},
   "outputs": [],
   "source": [
    "plt.figure(figsize = (7, 5))\n",
    "sns.heatmap(df_logreg_base, annot = True)\n",
    "\n",
    "# we see that using logistic regression we have around 1200 ++ false positive in this case (not cancelled booking) thats predicted\n",
    "# to be cancelled\n",
    "# and we have around 3300 ++ False Negative means (cancelled booking that's considered not cancelled)"
   ]
  },
  {
   "cell_type": "markdown",
   "metadata": {},
   "source": [
    "### KNN"
   ]
  },
  {
   "cell_type": "code",
   "execution_count": null,
   "metadata": {},
   "outputs": [],
   "source": [
    "pipe_KNN.fit(X_train, y_train)\n",
    "y_pred_KNN_base =  pipe_KNN.predict(X_test)\n",
    "y_pred_KNN_base_train = pipe_KNN.predict(X_train)"
   ]
  },
  {
   "cell_type": "code",
   "execution_count": null,
   "metadata": {},
   "outputs": [],
   "source": [
    "recall_KNN_base = recall_score(y_test, y_pred_KNN_base)\n",
    "acc_KNN_base = accuracy_score(y_test, y_pred_KNN_base)\n",
    "precision_KNN_base = precision_score(y_test, y_pred_KNN_base)\n",
    "f1_KNN_base = f1_score(y_test, y_pred_KNN_base)\n",
    "acc_KNN_base_train = accuracy_score(y_train, y_pred_KNN_base_train)\n",
    "\n",
    "print(f\"Training Accuracy : {acc_KNN_base_train}\")\n",
    "print(f\"Testing Accuracy : {acc_KNN_base}\")\n",
    "\n",
    "# in KNN model we see that there is overfitting condition in KNN model\n",
    "# even though KNN has a better accuracy score compared to logistic Regression\n",
    "# we will fix it later on in hyperparameter tuning"
   ]
  },
  {
   "cell_type": "code",
   "execution_count": null,
   "metadata": {},
   "outputs": [],
   "source": [
    "print(classification_report(y_test, y_pred_KNN_base))"
   ]
  },
  {
   "cell_type": "code",
   "execution_count": null,
   "metadata": {},
   "outputs": [],
   "source": [
    "cm_KNN_base = confusion_matrix(y_test, y_pred_KNN_base, labels = [1,0])\n",
    "df_KNN_base = pd.DataFrame(data = cm_KNN_base, index = ['aktual 1', 'aktual 0'], columns = ['Prediksi 1', 'Prediksi 0'])\n",
    "df_KNN_base"
   ]
  },
  {
   "cell_type": "code",
   "execution_count": null,
   "metadata": {},
   "outputs": [],
   "source": [
    "plt.figure(figsize = (7, 5))\n",
    "sns.heatmap(df_KNN_base, annot = True)\n",
    "\n",
    "# compared to logistic regression KNN model has a lower False negative (not cancelled prediction actual  canceled)\n",
    "# however it has a higher False Positive (prediction cancelled actual not cancelled)"
   ]
  },
  {
   "cell_type": "markdown",
   "metadata": {},
   "source": [
    "### Decision Tree"
   ]
  },
  {
   "cell_type": "code",
   "execution_count": null,
   "metadata": {},
   "outputs": [],
   "source": [
    "pipe_DT.fit(X_train, y_train)\n",
    "y_pred_DT_base =  pipe_DT.predict(X_test)\n",
    "y_pred_DT_base_train = pipe_DT.predict(X_train)"
   ]
  },
  {
   "cell_type": "code",
   "execution_count": null,
   "metadata": {},
   "outputs": [],
   "source": [
    "recall_DT_base = recall_score(y_test, y_pred_DT_base)\n",
    "acc_DT_base = accuracy_score(y_test, y_pred_DT_base)\n",
    "precision_DT_base = precision_score(y_test, y_pred_DT_base)\n",
    "f1_DT_base = f1_score(y_test, y_pred_DT_base)\n",
    "acc_DT_base_train = accuracy_score(y_train, y_pred_DT_base_train)\n",
    "\n",
    "print(f\"Training Accuracy : {acc_DT_base_train}\")\n",
    "print(f\"Testing Accuracy : {acc_DT_base}\")\n",
    "\n",
    "# we see that there's overfitting condition in Decision Tree as well \n",
    "# however we will try to adjust the parameter to prevent the overfitting condition"
   ]
  },
  {
   "cell_type": "code",
   "execution_count": null,
   "metadata": {},
   "outputs": [],
   "source": [
    "print(classification_report(y_test, y_pred_DT_base))"
   ]
  },
  {
   "cell_type": "code",
   "execution_count": null,
   "metadata": {},
   "outputs": [],
   "source": [
    "cm_DT_base = confusion_matrix(y_test, y_pred_DT_base, labels = [1,0])\n",
    "df_DT_base = pd.DataFrame(data = cm_DT_base, index = ['aktual 1', 'aktual 0'], columns = ['Prediksi 1', 'Prediksi 0'])\n",
    "df_DT_base"
   ]
  },
  {
   "cell_type": "code",
   "execution_count": null,
   "metadata": {},
   "outputs": [],
   "source": [
    "plt.figure(figsize = (7, 5))\n",
    "sns.heatmap(df_DT_base, annot = True)\n"
   ]
  },
  {
   "cell_type": "markdown",
   "metadata": {},
   "source": [
    "### Random Forest"
   ]
  },
  {
   "cell_type": "code",
   "execution_count": null,
   "metadata": {},
   "outputs": [],
   "source": [
    "pipe_RF.fit(X_train, y_train)\n",
    "y_pred_RF_base =  pipe_RF.predict(X_test)\n",
    "y_pred_RF_base_train = pipe_RF.predict(X_train)"
   ]
  },
  {
   "cell_type": "code",
   "execution_count": null,
   "metadata": {},
   "outputs": [],
   "source": [
    "recall_RF_base = recall_score(y_test, y_pred_RF_base)\n",
    "acc_RF_base = accuracy_score(y_test, y_pred_RF_base)\n",
    "precision_RF_base = precision_score(y_test, y_pred_RF_base)\n",
    "f1_RF_base = f1_score(y_test, y_pred_RF_base)\n",
    "acc_RF_base_train = accuracy_score(y_train, y_pred_RF_base_train)\n",
    "\n",
    "print(f\"Training Accuracy : {acc_RF_base_train}\")\n",
    "print(f\"Testing Accuracy : {acc_RF_base}\")\n",
    "\n",
    "# we also have an overfitting condition for Random Forest model as well in this case \n",
    "# we also will fix it later on the hyperparameter tuning"
   ]
  },
  {
   "cell_type": "code",
   "execution_count": null,
   "metadata": {},
   "outputs": [],
   "source": [
    "print(classification_report(y_test, y_pred_RF_base))"
   ]
  },
  {
   "cell_type": "code",
   "execution_count": null,
   "metadata": {},
   "outputs": [],
   "source": [
    "cm_RF_base = confusion_matrix(y_test, y_pred_RF_base, labels = [1,0])\n",
    "df_RF_base = pd.DataFrame(data = cm_RF_base, index = ['aktual 1', 'aktual 0'], columns = ['Prediksi 1', 'Prediksi 0'])\n",
    "df_RF_base"
   ]
  },
  {
   "cell_type": "code",
   "execution_count": null,
   "metadata": {},
   "outputs": [],
   "source": [
    "plt.figure(figsize = (7, 5))\n",
    "sns.heatmap(df_RF_base, annot = True)"
   ]
  },
  {
   "cell_type": "code",
   "execution_count": null,
   "metadata": {},
   "outputs": [],
   "source": [
    "pipe_XGB.fit(X_train, y_train)\n",
    "y_pred_XGB_base =  pipe_XGB.predict(X_test)\n",
    "y_pred_XGB_base_train = pipe_XGB.predict(X_train)"
   ]
  },
  {
   "cell_type": "code",
   "execution_count": null,
   "metadata": {},
   "outputs": [],
   "source": [
    "recall_XGB_base = recall_score(y_test, y_pred_XGB_base)\n",
    "acc_XGB_base = accuracy_score(y_test, y_pred_XGB_base)\n",
    "precision_XGB_base = precision_score(y_test, y_pred_XGB_base)\n",
    "f1_XGB_base = f1_score(y_test, y_pred_XGB_base)\n",
    "acc_XGB_base_train = accuracy_score(y_train, y_pred_XGB_base_train)\n",
    "\n",
    "print(f\"Training Accuracy : {acc_XGB_base_train}\")\n",
    "print(f\"Testing Accuracy : {acc_XGB_base}\")\n"
   ]
  },
  {
   "cell_type": "code",
   "execution_count": null,
   "metadata": {},
   "outputs": [],
   "source": [
    "print(classification_report(y_test, y_pred_XGB_base))"
   ]
  },
  {
   "cell_type": "code",
   "execution_count": null,
   "metadata": {},
   "outputs": [],
   "source": [
    "cm_XGB_base = confusion_matrix(y_test, y_pred_XGB_base, labels = [1,0])\n",
    "df_XGB_base = pd.DataFrame(data = cm_XGB_base, index = ['aktual 1', 'aktual 0'], columns = ['Prediksi 1', 'Prediksi 0'])\n",
    "df_XGB_base"
   ]
  },
  {
   "cell_type": "code",
   "execution_count": null,
   "metadata": {},
   "outputs": [],
   "source": [
    "plt.figure(figsize = (7, 5))\n",
    "sns.heatmap(df_XGB_base, annot = True)"
   ]
  },
  {
   "cell_type": "markdown",
   "metadata": {},
   "source": [
    "### Evaluation Comparing Each Models Evaluation Matrix "
   ]
  },
  {
   "cell_type": "code",
   "execution_count": null,
   "metadata": {},
   "outputs": [],
   "source": [
    "from IPython.core.display import display, HTML\n",
    "\n",
    "def display_side_by_side(dfs:list, captions:list):\n",
    "    \"\"\"Display tables side by side to save vertical space\n",
    "    Input:\n",
    "        dfs: list of pandas.DataFrame\n",
    "        captions: list of table captions\n",
    "    \"\"\"\n",
    "    output = \"\"\n",
    "    combined = dict(zip(captions, dfs))\n",
    "    for caption, df in combined.items():\n",
    "        output += df.style.set_table_attributes(\"style='display:inline'\").set_caption(caption)._repr_html_()\n",
    "        output += \"\\xa0\\xa0\\xa0\"\n",
    "    display(HTML(output))"
   ]
  },
  {
   "cell_type": "code",
   "execution_count": null,
   "metadata": {},
   "outputs": [],
   "source": [
    "evaluation_matrix_base = {\n",
    "    'Logistic Regression': [acc_logreg_base, recall_logreg_base, precision_logreg_base, f1_logreg_base],\n",
    "    'KNN':[acc_KNN_base,recall_KNN_base,precision_KNN_base, f1_KNN_base],\n",
    "    'Decision Tree':[acc_DT_base, recall_DT_base, precision_DT_base, f1_DT_base],\n",
    "    'Random Forest':[acc_RF_base, recall_RF_base, precision_RF_base, f1_RF_base],\n",
    "    'XGB':[acc_XGB_base, recall_XGB_base, precision_XGB_base, f1_XGB_base]\n",
    "}\n",
    "\n",
    "eva_base = pd.DataFrame(data = evaluation_matrix_base, index = ['Accucary', 'Recall', 'Precision', 'F1 Score'])\n",
    "\n",
    "evaluation_matrix_base_training = {\n",
    "    \"training\" : [acc_logreg_base_train, acc_KNN_base_train, acc_DT_base_train, acc_RF_base_train, acc_XGB_base_train],\n",
    "    \"testing\": [acc_logreg_base, acc_KNN_base, acc_DT_base, acc_RF_base, acc_XGB_base]\n",
    "}\n",
    "    \n",
    "\n",
    "eva_base_train = pd.DataFrame(data = evaluation_matrix_base_training, index = ['Logreg', 'KNN', 'Decision Tree', 'Random Forest', 'XGB'])\n",
    "\n",
    "display_side_by_side([eva_base, eva_base_train], ['Evaluation Matrix', 'Accuracy Train & Test'])\n",
    "\n",
    "\n",
    "\n",
    "# we see that from the evaluation matrix Decision Tree and Random Forest has the highest score in training \n",
    "# however we see that both algorithm has an overfitting condition \n",
    "# same goes to KNN it also have an overfitting condition \n",
    "\n",
    "# the only algorithm that doesn't have an overfitting condition is Logistic Regression & XGB\n",
    "# however we will do hyperparameter tuning on all of them to fix the overfitting condition"
   ]
  },
  {
   "cell_type": "code",
   "execution_count": null,
   "metadata": {},
   "outputs": [],
   "source": [
    "# confusion Matrix Figure For All The Chart \n",
    "\n",
    "plt.figure(figsize = (20, 15))\n",
    "\n",
    "plt.subplot(3,2,1)\n",
    "sns.heatmap(df_logreg_base, annot=True)\n",
    "plt.title(\"Logistic Regression\")\n",
    "\n",
    "plt.subplot(3,2,2)\n",
    "sns.heatmap(df_KNN_base, annot = True)\n",
    "plt.title('KNN')\n",
    "\n",
    "plt.subplot(3,2,3)\n",
    "sns.heatmap(df_DT_base, annot = True)\n",
    "plt.title('Decison Tree')\n",
    "\n",
    "plt.subplot(3,2,4)\n",
    "sns.heatmap(df_RF_base, annot = True)\n",
    "plt.title('Random Forest')\n",
    "\n",
    "plt.subplot(3,2,5)\n",
    "sns.heatmap(df_XGB_base, annot = True)\n",
    "plt.title(\"XGB\")\n",
    "\n",
    "plt.show()\n",
    "\n",
    "# we will focus on 2 algorithms that doesn't have overfitting condition (Logistic Regression & XGB)\n",
    "\n",
    "# XGB :\n",
    "# XGB has more False Positive compared to XGB (predicting cancellation actually not cancelled)\n",
    "# this might lead into overbooking for the hotel side (more booking compared to the hotel rooms)\n",
    "\n",
    "\n",
    "# Logistic Regression : \n",
    "# Logistic Regression has more false negative compared to XGB (Preidiction not canceled actually canceled)\n",
    "# this might lead into messing up revenue management (lower adr rate) or maybe even leads into unsold rooms due to cancellation \n"
   ]
  },
  {
   "cell_type": "markdown",
   "metadata": {},
   "source": [
    "### Testing With New Data"
   ]
  },
  {
   "cell_type": "code",
   "execution_count": null,
   "metadata": {},
   "outputs": [],
   "source": [
    "data_arif = {\n",
    "    \"nama\" : \"Arif\",\n",
    "    \"Sex\" : \"male\",\n",
    "    \"Age\" : 28,\n",
    "    \"hotel_encoded\" : 1,\n",
    "    \"booking_location_encoded\" : 1,\n",
    "    \"lead_time\" : 200,\n",
    "    \"market_segment\" : \"Direct\",\n",
    "    'deposit_type': 'No Deposit',\n",
    "    'parking_space':1,\n",
    "    'total_of_special_requests':1,\n",
    "    'is_previously_cancelled':1,\n",
    "    'is_repeated_guest':0,\n",
    "    'is_booking_changes':0,\n",
    "    'customer_type':'Transient',\n",
    "    'total_stays': 2,\n",
    "    'guests': 2.0,\n",
    "    \"Email\" : \"arif@titanic.com\"\n",
    "}\n",
    "\n",
    "arif = pd.DataFrame(data = data_arif, index = [1])\n",
    "pipe_XGB.predict_proba(arif)\n",
    "\n",
    "# we see that our model could predict new data that's outside the training and testing set \n",
    "# we use XGB and predict proba in this case, we that arif is 95% will likely to confirmed booking  "
   ]
  },
  {
   "cell_type": "markdown",
   "metadata": {},
   "source": [
    "### Hyperparameter Tuning\n",
    "\n",
    "\n",
    "#### Logistic Regression "
   ]
  },
  {
   "cell_type": "code",
   "execution_count": null,
   "metadata": {},
   "outputs": [],
   "source": [
    "pipe_logreg.get_params()"
   ]
  },
  {
   "cell_type": "code",
   "execution_count": null,
   "metadata": {},
   "outputs": [],
   "source": [
    "param_logreg = {\n",
    "    'algo__penalty':['l2', 'l1', 'elasticnet'],\n",
    "    'algo__C':[1.0, 2.0, 3.0, 0.5, 0.1],\n",
    "    'algo__class_weight':[None, 'balanced']\n",
    "}\n",
    "\n",
    "model_logreg = GridSearchCV(estimator=pipe_logreg, param_grid=param_logreg, cv = 3, n_jobs = -1, verbose = 1, scoring='accuracy')\n",
    "model_logreg.fit(X_train, y_train)"
   ]
  },
  {
   "cell_type": "code",
   "execution_count": null,
   "metadata": {},
   "outputs": [],
   "source": [
    "logreg_tuned = model_logreg.best_estimator_\n",
    "logreg_tuned_train = model_logreg.best_score_\n",
    "y_pred_logreg_tuned = logreg_tuned.predict(X_test) "
   ]
  },
  {
   "cell_type": "code",
   "execution_count": null,
   "metadata": {},
   "outputs": [],
   "source": [
    "recall_logreg_tuned = recall_score(y_test, y_pred_logreg_tuned)\n",
    "acc_logreg_tuned = accuracy_score(y_test, y_pred_logreg_tuned)\n",
    "precision_logreg_tuned = precision_score(y_test, y_pred_logreg_tuned)\n",
    "f1_logreg_tuned = f1_score(y_test, y_pred_logreg_tuned)\n",
    "acc_logreg_tuned_train = logreg_tuned_train\n",
    "\n",
    "print(f\"Training Accuracy : {acc_logreg_tuned_train}\")\n",
    "print(f\"Testing Accuracy : {acc_logreg_tuned}\")\n",
    "\n",
    "\n",
    "# logistic regression doesn't have an overfitting condition from the based model however it seems doesn't effect the accuracy of it\n"
   ]
  },
  {
   "cell_type": "code",
   "execution_count": null,
   "metadata": {},
   "outputs": [],
   "source": [
    "print(classification_report(y_test, y_pred_logreg_tuned))"
   ]
  },
  {
   "cell_type": "code",
   "execution_count": null,
   "metadata": {},
   "outputs": [],
   "source": [
    "cm_logreg_tuned = confusion_matrix(y_test, y_pred_logreg_tuned, labels = [1,0])\n",
    "df_logreg_tuned = pd.DataFrame(data = cm_logreg_tuned, index = ['aktual 1', 'aktual 0'], columns = ['Prediksi 1', 'Prediksi 0'])\n",
    "\n",
    "\n",
    "display_side_by_side([df_logreg_base, df_logreg_tuned], ['Base Model', 'Tuned Model'])\n",
    "\n",
    "# we see that comparing both of the model we see that base model has a slightly more True Positive \n",
    "# while tuned model has slightly more True Negative and and slightly less true  true positive"
   ]
  },
  {
   "cell_type": "code",
   "execution_count": null,
   "metadata": {},
   "outputs": [],
   "source": [
    "plt.figure(figsize = (10, 4.5))\n",
    "\n",
    "plt.subplot(1,2,1)\n",
    "sns.heatmap(df_logreg_base, annot = True)\n",
    "plt.title('Base Model')\n",
    "\n",
    "plt.subplot(1,3,3)\n",
    "sns.heatmap(df_logreg_tuned, annot = True)\n",
    "plt.title('Tuned Model')"
   ]
  },
  {
   "cell_type": "markdown",
   "metadata": {},
   "source": [
    "#### KNN "
   ]
  },
  {
   "cell_type": "code",
   "execution_count": null,
   "metadata": {},
   "outputs": [],
   "source": [
    "pipe_KNN.get_params()\n",
    "\n"
   ]
  },
  {
   "cell_type": "code",
   "execution_count": null,
   "metadata": {},
   "outputs": [],
   "source": [
    "param_KNN = {\n",
    "    'algo__n_neighbors': [5, 10, 15, 20, 30, 40],\n",
    "    'algo__weights':['uniform', 'distance'],\n",
    "    'algo__p':[2,1]\n",
    "}\n",
    "\n",
    "model_KNN = GridSearchCV(estimator=pipe_KNN, param_grid=param_KNN, cv = 3, n_jobs = -1, verbose = 1)\n",
    "model_KNN.fit(X_train, y_train)"
   ]
  },
  {
   "cell_type": "code",
   "execution_count": null,
   "metadata": {},
   "outputs": [],
   "source": [
    "KNN_tuned = model_KNN.best_estimator_\n",
    "KNN_tuned_train = model_KNN.best_score_\n",
    "y_pred_KNN_tuned = KNN_tuned.predict(X_test) "
   ]
  },
  {
   "cell_type": "code",
   "execution_count": null,
   "metadata": {},
   "outputs": [],
   "source": [
    "recall_KNN_tuned = recall_score(y_test, y_pred_KNN_tuned)\n",
    "acc_KNN_tuned = accuracy_score(y_test, y_pred_KNN_tuned)\n",
    "precision_KNN_tuned = precision_score(y_test, y_pred_KNN_tuned)\n",
    "f1_KNN_tuned = f1_score(y_test, y_pred_KNN_tuned)\n",
    "acc_KNN_tuned_train = KNN_tuned_train\n",
    "\n",
    "print(f\"Training Accuracy : {acc_KNN_tuned_train}\")\n",
    "print(f\"Testing Accuracy : {acc_KNN_tuned}\")\n",
    "\n",
    "\n",
    "# we see now that KNN doesn't have an overfitting condition and KNN have a better accuracy score compared to logistic regression \n",
    "# we also see that after hyperparameter tuning KNN has a better testing score compared to it's based model\n"
   ]
  },
  {
   "cell_type": "code",
   "execution_count": null,
   "metadata": {},
   "outputs": [],
   "source": [
    "print(classification_report(y_test, y_pred_KNN_tuned))"
   ]
  },
  {
   "cell_type": "code",
   "execution_count": null,
   "metadata": {},
   "outputs": [],
   "source": [
    "cm_KNN_tuned = confusion_matrix(y_test, y_pred_KNN_tuned, labels = [1,0])\n",
    "df_KNN_tuned = pd.DataFrame(data = cm_KNN_tuned, index = ['aktual 1', 'aktual 0'], columns = ['Prediksi 1', 'Prediksi 0'])\n",
    "\n",
    "\n",
    "display_side_by_side([df_KNN_base, df_KNN_tuned], ['Base Model', 'Tuned Model'])\n",
    "\n",
    "# we can see from the confusion matrix we see that improvement compared to the based model\n",
    "# we see that there is slight improvement on True Positive and slight improvement on the true Negative as well"
   ]
  },
  {
   "cell_type": "code",
   "execution_count": null,
   "metadata": {},
   "outputs": [],
   "source": [
    "plt.figure(figsize = (10, 4.5))\n",
    "\n",
    "plt.subplot(1,2,1)\n",
    "sns.heatmap(df_KNN_base, annot = True)\n",
    "plt.title('Base Model')\n",
    "\n",
    "plt.subplot(1,3,3)\n",
    "sns.heatmap(df_KNN_tuned, annot = True)\n",
    "plt.title('Tuned Model')"
   ]
  },
  {
   "cell_type": "markdown",
   "metadata": {},
   "source": [
    "### Decision Tree"
   ]
  },
  {
   "cell_type": "code",
   "execution_count": null,
   "metadata": {},
   "outputs": [],
   "source": []
  },
  {
   "cell_type": "code",
   "execution_count": null,
   "metadata": {},
   "outputs": [],
   "source": [
    "param_DT = {\n",
    "    'algo__min_samples_split': [2,1,3,4,6,8,10,],\n",
    "    'algo__max_depth': [None,1,2,4,8,10,12,14,18, 20],\n",
    "    'algo__min_samples_leaf':[1,2,4,5,8]\n",
    "}\n",
    "\n",
    "model_DT = GridSearchCV(estimator=pipe_DT, param_grid=param_DT, cv = 3, n_jobs = -1, verbose = 1, scoring='accuracy')\n",
    "model_DT.fit(X_train, y_train)"
   ]
  },
  {
   "cell_type": "code",
   "execution_count": null,
   "metadata": {},
   "outputs": [],
   "source": [
    "DT_tuned = model_DT.best_estimator_\n",
    "DT_tuned_train = model_DT.best_score_\n",
    "y_pred_DT_tuned = DT_tuned.predict(X_test) "
   ]
  },
  {
   "cell_type": "code",
   "execution_count": null,
   "metadata": {},
   "outputs": [],
   "source": [
    "recall_DT_tuned = recall_score(y_test, y_pred_DT_tuned)\n",
    "acc_DT_tuned = accuracy_score(y_test, y_pred_DT_tuned)\n",
    "precision_DT_tuned = precision_score(y_test, y_pred_DT_tuned)\n",
    "f1_DT_tuned = f1_score(y_test, y_pred_DT_tuned)\n",
    "acc_DT_tuned_train = DT_tuned_train\n",
    "\n",
    "print(f\"Training Accuracy : {acc_DT_tuned_train}\")\n",
    "print(f\"Testing Accuracy : {acc_DT_tuned}\")\n"
   ]
  },
  {
   "cell_type": "code",
   "execution_count": null,
   "metadata": {},
   "outputs": [],
   "source": [
    "print(classification_report(y_test, y_pred_DT_tuned))"
   ]
  },
  {
   "cell_type": "code",
   "execution_count": null,
   "metadata": {},
   "outputs": [],
   "source": [
    "cm_DT_tuned = confusion_matrix(y_test, y_pred_DT_tuned, labels = [1,0])\n",
    "df_DT_tuned = pd.DataFrame(data = cm_DT_tuned, index = ['aktual 1', 'aktual 0'], columns = ['Prediksi 1', 'Prediksi 0'])\n",
    "\n",
    "\n",
    "display_side_by_side([df_DT_base, df_DT_tuned], ['Base Model', 'Tuned Model'])\n"
   ]
  },
  {
   "cell_type": "code",
   "execution_count": null,
   "metadata": {},
   "outputs": [],
   "source": [
    "plt.figure(figsize = (10, 4.5))\n",
    "\n",
    "plt.subplot(1,2,1)\n",
    "sns.heatmap(df_DT_base, annot = True)\n",
    "plt.title('Base Model')\n",
    "\n",
    "plt.subplot(1,3,3)\n",
    "sns.heatmap(df_DT_tuned, annot = True)\n",
    "plt.title('Tuned Model')"
   ]
  },
  {
   "cell_type": "markdown",
   "metadata": {},
   "source": [
    "### Random Forest "
   ]
  },
  {
   "cell_type": "code",
   "execution_count": null,
   "metadata": {},
   "outputs": [],
   "source": []
  },
  {
   "cell_type": "code",
   "execution_count": null,
   "metadata": {},
   "outputs": [],
   "source": [
    "param_RF = {\n",
    "    'algo__min_samples_split': [2,3,4,6,8,10],\n",
    "    'algo__max_depth': [None,12,14,18, 20],\n",
    "    'algo__min_samples_leaf':[1,2,4,8],\n",
    "    'algo__max_leaf_nodes':[None, 1,2,4]\n",
    "}\n",
    "\n",
    "model_RF = GridSearchCV(estimator=pipe_RF, param_grid=param_RF, cv = 3, n_jobs = -1, verbose = 1, scoring='accuracy')\n",
    "model_RF.fit(X_train, y_train)"
   ]
  },
  {
   "cell_type": "code",
   "execution_count": null,
   "metadata": {},
   "outputs": [],
   "source": [
    "RF_tuned = model_RF.best_estimator_\n",
    "RF_tuned_train = model_RF.best_score_\n",
    "y_pred_RF_tuned = RF_tuned.predict(X_test) "
   ]
  },
  {
   "cell_type": "code",
   "execution_count": null,
   "metadata": {},
   "outputs": [],
   "source": [
    "recall_RF_tuned = recall_score(y_test, y_pred_RF_tuned)\n",
    "acc_RF_tuned = accuracy_score(y_test, y_pred_RF_tuned)\n",
    "precision_RF_tuned = precision_score(y_test, y_pred_RF_tuned)\n",
    "f1_RF_tuned = f1_score(y_test, y_pred_RF_tuned)\n",
    "acc_RF_tuned_train = RF_tuned_train\n",
    "\n",
    "print(f\"Training Accuracy : {acc_RF_tuned_train}\")\n",
    "print(f\"Testing Accuracy : {acc_RF_tuned}\")\n",
    "\n",
    "# from all the algorith that we tested so far we see that Random Forest has the highest accuracy among all of the algorithm \n",
    "# and now the tuned Random Forest doesn't have overfitting condition compared to the base model "
   ]
  },
  {
   "cell_type": "code",
   "execution_count": null,
   "metadata": {},
   "outputs": [],
   "source": [
    "print(classification_report(y_test, y_pred_RF_tuned))"
   ]
  },
  {
   "cell_type": "code",
   "execution_count": null,
   "metadata": {},
   "outputs": [],
   "source": [
    "cm_RF_tuned = confusion_matrix(y_test, y_pred_RF_tuned, labels = [1,0])\n",
    "df_RF_tuned = pd.DataFrame(data = cm_RF_tuned, index = ['aktual 1', 'aktual 0'], columns = ['Prediksi 1', 'Prediksi 0'])\n",
    "\n",
    "\n",
    "display_side_by_side([df_RF_base, df_RF_tuned], ['Base Model', 'Tuned Model'])\n",
    "\n",
    "# from the comparison with the base model in term of the accuracy the tuned model has a slightly higher accuracy and \n",
    "# it doesn't have overfitting condition \n",
    "# but we see from the confusion matrix we see that tuned random forest has a slightly lower TRUE POSITIVE \n",
    "# (prediction cancelled & actully cancelled)\n",
    "# compared to the based model\n",
    "\n",
    "\n",
    "# Tuned Version of Random Forest also have a slightly higher FN (False Negative)\n",
    "# (Prediction Not Canceled actually Cancelled)\n",
    "\n",
    "# however the tuned model has a lower False Positive and Higher True Negative compared to the based model \n",
    "# that resulted in higer accuracy"
   ]
  },
  {
   "cell_type": "code",
   "execution_count": null,
   "metadata": {},
   "outputs": [],
   "source": [
    "plt.figure(figsize = (10, 4.5))\n",
    "\n",
    "plt.subplot(1,2,1)\n",
    "sns.heatmap(df_RF_base, annot = True)\n",
    "plt.title('Base Model')\n",
    "\n",
    "plt.subplot(1,3,3)\n",
    "sns.heatmap(df_RF_tuned, annot = True)\n",
    "plt.title('Tuned Model')"
   ]
  },
  {
   "cell_type": "markdown",
   "metadata": {},
   "source": [
    "### XGB "
   ]
  },
  {
   "cell_type": "code",
   "execution_count": null,
   "metadata": {},
   "outputs": [],
   "source": [
    "pipe_XGB.get_params()"
   ]
  },
  {
   "cell_type": "code",
   "execution_count": null,
   "metadata": {},
   "outputs": [],
   "source": [
    "param_XGB = {\n",
    "    'algo__learning_rate': [0.300000012, 0.5, 0.7, 0.8],\n",
    "    'algo__max_depth': [6, 8, 10, 12],\n",
    "    'algo__gamma':[0,1,2,3]\n",
    "}\n",
    "\n",
    "model_XGB = GridSearchCV(estimator=pipe_XGB, param_grid=param_XGB, cv = 3, n_jobs = -1, verbose = 1, scoring='accuracy')\n",
    "model_XGB.fit(X_train, y_train)"
   ]
  },
  {
   "cell_type": "code",
   "execution_count": null,
   "metadata": {},
   "outputs": [],
   "source": [
    "XGB_tuned = model_XGB.best_estimator_\n",
    "XGB_tuned_train = model_XGB.best_score_\n",
    "y_pred_XGB_tuned = XGB_tuned.predict(X_test) "
   ]
  },
  {
   "cell_type": "code",
   "execution_count": null,
   "metadata": {},
   "outputs": [],
   "source": [
    "recall_XGB_tuned = recall_score(y_test, y_pred_XGB_tuned)\n",
    "acc_XGB_tuned = accuracy_score(y_test, y_pred_XGB_tuned)\n",
    "precision_XGB_tuned = precision_score(y_test, y_pred_XGB_tuned)\n",
    "f1_XGB_tuned = f1_score(y_test, y_pred_XGB_tuned)\n",
    "acc_XGB_tuned_train = XGB_tuned_train\n",
    "\n",
    "print(f\"Training Accuracy : {acc_XGB_tuned_train}\")\n",
    "print(f\"Testing Accuracy : {acc_XGB_tuned}\")\n",
    "\n",
    "# compared to the base model XGB tuned model has a slightly better accuracy score \n",
    "#we will check the confusion matrix comparison between the base model and the tuned model "
   ]
  },
  {
   "cell_type": "code",
   "execution_count": null,
   "metadata": {},
   "outputs": [],
   "source": [
    "print(classification_report(y_test, y_pred_XGB_tuned))"
   ]
  },
  {
   "cell_type": "code",
   "execution_count": null,
   "metadata": {},
   "outputs": [],
   "source": [
    "cm_XGB_tuned = confusion_matrix(y_test, y_pred_XGB_tuned, labels = [1,0])\n",
    "df_XGB_tuned = pd.DataFrame(data = cm_XGB_tuned, index = ['aktual 1', 'aktual 0'], columns = ['Prediksi 1', 'Prediksi 0'])\n",
    "\n",
    "\n",
    "display_side_by_side([df_XGB_base, df_XGB_tuned], ['Base Model', 'Tuned Model'])\n",
    "\n",
    "# from the comparison of both confusion matrix we see that \n",
    "# the tuned model has a slightly higher TP (True Positive)\n",
    "# prediction canceled actual canceled\n",
    "\n",
    "# the tuned model also has a lower FN (False Negative)\n",
    "# prediction not cancelled actual cancelled\n",
    "\n",
    "\n",
    "# both the tuned and the base model has almost similar False Positive & True Negative value"
   ]
  },
  {
   "cell_type": "code",
   "execution_count": null,
   "metadata": {},
   "outputs": [],
   "source": [
    "plt.figure(figsize = (10, 4.5))\n",
    "\n",
    "plt.subplot(1,2,1)\n",
    "sns.heatmap(df_XGB_base, annot = True)\n",
    "plt.title('Base Model')\n",
    "\n",
    "plt.subplot(1,3,3)\n",
    "sns.heatmap(df_XGB_tuned, annot = True)\n",
    "plt.title('Tuned Model')"
   ]
  },
  {
   "cell_type": "code",
   "execution_count": null,
   "metadata": {},
   "outputs": [],
   "source": [
    "evaluation_matrix_tuned = {\n",
    "    'Logistic Regression': [acc_logreg_tuned, recall_logreg_tuned, precision_logreg_tuned, f1_logreg_tuned],\n",
    "    'KNN':[acc_KNN_tuned,recall_KNN_tuned,precision_KNN_tuned, f1_KNN_tuned],\n",
    "    'Decision Tree':[acc_DT_tuned, recall_DT_tuned, precision_DT_tuned, f1_DT_tuned],\n",
    "    'Random Forest':[acc_RF_tuned, recall_RF_tuned, precision_RF_tuned, f1_RF_tuned],\n",
    "    'XGB':[acc_XGB_tuned, recall_XGB_tuned, precision_XGB_tuned, f1_XGB_tuned]\n",
    "}\n",
    "\n",
    "eva_tuned = pd.DataFrame(data = evaluation_matrix_tuned, index = ['Accucary', 'Recall', 'Precision', 'F1 Score'])\n",
    "\n",
    "evaluation_matrix_tuned_training = {\n",
    "    \"training\" : [acc_logreg_tuned_train, acc_KNN_tuned_train, acc_DT_tuned_train, acc_RF_tuned_train, acc_XGB_tuned_train],\n",
    "    \"testing\": [acc_logreg_tuned, acc_KNN_tuned, acc_DT_tuned, acc_RF_tuned, acc_XGB_tuned]\n",
    "}\n",
    "\n",
    "eva_tuned_train = pd.DataFrame(data = evaluation_matrix_tuned_training, index = ['Logreg', 'KNN', 'Decision Tree', 'Random Forest', 'XGB'])\n"
   ]
  },
  {
   "cell_type": "markdown",
   "metadata": {},
   "source": [
    "### Comparing Each Evaluation Matrix \n",
    "\n",
    "#### Base Model"
   ]
  },
  {
   "cell_type": "code",
   "execution_count": null,
   "metadata": {},
   "outputs": [],
   "source": [
    "display_side_by_side([eva_base, eva_base_train], ['Evaluation Matrix', 'Accuracy Train & Test'])\n"
   ]
  },
  {
   "cell_type": "markdown",
   "metadata": {},
   "source": [
    "#### Tuned Model"
   ]
  },
  {
   "cell_type": "code",
   "execution_count": null,
   "metadata": {},
   "outputs": [],
   "source": [
    "display_side_by_side([eva_tuned, eva_tuned_train], ['Evaluation Matrix', 'Accuracy Train & Test'])\n"
   ]
  },
  {
   "cell_type": "markdown",
   "metadata": {},
   "source": [
    "### Heatmap After Tuning"
   ]
  },
  {
   "cell_type": "code",
   "execution_count": null,
   "metadata": {},
   "outputs": [],
   "source": [
    "plt.figure(figsize = (20, 15))\n",
    "\n",
    "plt.subplot(3,2,1)\n",
    "sns.heatmap(df_logreg_tuned, annot=True)\n",
    "plt.title(\"Logistic Regression\")\n",
    "\n",
    "plt.subplot(3,2,2)\n",
    "sns.heatmap(df_KNN_tuned, annot = True)\n",
    "plt.title('KNN')\n",
    "\n",
    "plt.subplot(3,2,3)\n",
    "sns.heatmap(df_DT_tuned, annot = True)\n",
    "plt.title('Decison Tree')\n",
    "\n",
    "plt.subplot(3,2,4)\n",
    "sns.heatmap(df_RF_tuned, annot = True)\n",
    "plt.title('Random Forest')\n",
    "\n",
    "plt.subplot(3,2,5)\n",
    "sns.heatmap(df_XGB_tuned, annot = True)\n",
    "plt.title(\"XGB\")\n",
    "\n",
    "plt.show()\n"
   ]
  },
  {
   "cell_type": "markdown",
   "metadata": {},
   "source": [
    "### Conclusion, Limitation & Improvement (Future Research)\n",
    "\n",
    "*For Exploratory Data Analysis Conclusion Please Check The Other Notebook*\n",
    "\n",
    "\n",
    "#### Conclusion\n",
    "\n",
    "- **Tuned Random Forest Has The Best Accuracy Among All Algorithm That We Tried**\n",
    "    - From all the evaluation matrix to predict hotel cancellation classification case, we see that  **Tuned Random Forest** has the best accuracy when it comes to predicting hotel cancellation based on certain features **(85.2 %)**\n",
    "\n",
    "\n",
    "- **Reservation Status Column**\n",
    "    - Reservation Status have 1.00 Association Value with the Target, because of the reservation status will tell whether the booking has been canceled, no show or checkout, using this column to build a model is prohibitted because you won't be able to predict future booking, since the future booking still doesn't have it status yet\n",
    "    \n",
    "    \n",
    "    \n",
    "- **Overfitting**\n",
    "    - For the base model we see that there are only 2 algorithms that doesn't have an overfitting condition **(Logistic Regression & XGB)**\n",
    "    \n",
    "    - After Hyperparameter Tuning on all algorithm all of the algorithm don't have an overfitting condition, and after hyperparameter tuning **(Random Forest)** has the highest accuracy score \n",
    "\n",
    "\n",
    "\n",
    "- **Using Accuracy As The Primary Evaluation Metrics**\n",
    "\n",
    "    1. The First Reason Why Accuracy is used as the evaluation metric here because we have somehow a balance data **63 % Confirmed Booking** and **37% Canceled Booking** in this case our dataset is balance and hence using accuracy is acceptable in this case \n",
    "    2. in this case **every class is equally important** \n",
    "    \n",
    "    \n",
    "- **How This Model Will Help Hotels ?**\n",
    "\n",
    "    - this model will allow hotel managers / revenue manager to take actions on bookings that's identified as \"potentially going to be canceled\", **furthermore the development of these model should contribute to hotel revenue management.**\n",
    "    - **These prediction models enable hotel managers to mitigate revenue loss derived from booking cancellations and to mitigate the risks associated with overbooking (reallocation costs, cash or service compensations, and, particularly important today, social reputation costs)**. Booking cancellations models also allow hotel managers to **implement less rigid cancellation policies, without increasing uncertainty**. This has the potential to translate into more sales, since less rigid cancellation policies generate more bookings"
   ]
  },
  {
   "cell_type": "markdown",
   "metadata": {},
   "source": [
    "### Limitation & Future Research \n",
    "\n",
    "\n",
    "\n",
    "\n",
    "- The machine learning model in this notebook implemented data from **City & Resort Hotels** in Portugal, which raise some question that further research will help to explain:\n",
    "\n",
    "\n",
    "\n",
    "- **1**.**Can a similar result obtained from hotel outside of portugal ?**\n",
    "- **2. Can Model have a better result if more hotels are integrated into the machine learning modeling?**\n",
    "- **3. Is the result only specific of the type of hotels integrated into this modeling?**\n",
    "\n",
    "\n",
    "- **Situation Limitation**\n",
    "    - all of this booking are recording during 2015 - 2017, however now in 2020 we have a pandemic that's going on **(Covid - 19)**, this model needs to be double checked for current situation wheter a similar result obtained after the pandemic \n",
    "\n",
    "#### Further Research\n",
    "\n",
    "- For further research weather information, hotel factors (star of the hotels, brand, and etc) could be included into the dataset in hope to  improve the models and measure the importance of these features\n",
    "\n",
    "\n",
    "- Additional research with different location, additional hotel could contribute to a better understanding of booking cancellations"
   ]
  },
  {
   "cell_type": "markdown",
   "metadata": {},
   "source": [
    "### Exporting The Models"
   ]
  },
  {
   "cell_type": "code",
   "execution_count": null,
   "metadata": {},
   "outputs": [],
   "source": [
    "joblib.dump(RF_tuned, 'hotel_tuned')"
   ]
  },
  {
   "cell_type": "code",
   "execution_count": null,
   "metadata": {},
   "outputs": [],
   "source": []
  }
 ],
 "metadata": {
  "kernelspec": {
   "display_name": "Python 3",
   "language": "python",
   "name": "python3"
  },
  "language_info": {
   "codemirror_mode": {
    "name": "ipython",
    "version": 3
   },
   "file_extension": ".py",
   "mimetype": "text/x-python",
   "name": "python",
   "nbconvert_exporter": "python",
   "pygments_lexer": "ipython3",
   "version": "3.8.5"
  }
 },
 "nbformat": 4,
 "nbformat_minor": 4
}
